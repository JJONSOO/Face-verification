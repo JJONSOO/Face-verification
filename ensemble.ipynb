{
 "cells": [
  {
   "cell_type": "code",
   "execution_count": 6,
   "source": [
    "import pandas as pd\r\n",
    "\r\n",
    "cosface1 = pd.read_csv('./cosface_r100_submission.csv')\r\n",
    "cosface2 = pd.read_csv('./r50_submission.csv')\r\n",
    "cosface3 = pd.read_csv('./res32_numpy_submission.csv')\r\n",
    "lis1 = cosface1['answer'].tolist()\r\n",
    "lis2 = cosface2['answer'].tolist()\r\n",
    "lis3 = cosface3['answer'].tolist()"
   ],
   "outputs": [],
   "metadata": {}
  },
  {
   "cell_type": "code",
   "execution_count": 7,
   "source": [
    "temp_list = [i *0.33 + j*0.34 + k*0.33 for i, j, k in zip(lis1, lis2, lis3)]\r\n",
    "\r\n",
    "cosface1['answer'] = pd.Series(temp_list)\r\n",
    "cosface1.to_csv('./cosface_arcface_ensembel.csv', index = False)"
   ],
   "outputs": [],
   "metadata": {}
  },
  {
   "cell_type": "code",
   "execution_count": null,
   "source": [],
   "outputs": [],
   "metadata": {}
  }
 ],
 "metadata": {
  "orig_nbformat": 4,
  "language_info": {
   "name": "python"
  }
 },
 "nbformat": 4,
 "nbformat_minor": 2
}