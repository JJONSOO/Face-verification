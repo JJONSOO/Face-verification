{
  "nbformat": 4,
  "nbformat_minor": 2,
  "metadata": {
    "kernelspec": {
      "display_name": "Python 3",
      "language": "python",
      "name": "python3"
    },
    "language_info": {
      "codemirror_mode": {
        "name": "ipython",
        "version": 3
      },
      "file_extension": ".py",
      "mimetype": "text/x-python",
      "name": "python",
      "nbconvert_exporter": "python",
      "pygments_lexer": "ipython3",
      "version": "3.5.5"
    },
    "colab": {
      "name": "ArcFace.ipynb",
      "provenance": []
    },
    "accelerator": "GPU"
  },
  "cells": [
    {
      "cell_type": "code",
      "execution_count": 91,
      "source": [
        "from google.colab import drive\r\n",
        "drive.mount('/content/gdrive')"
      ],
      "outputs": [
        {
          "output_type": "stream",
          "name": "stdout",
          "text": [
            "Mounted at /content/gdrive\n"
          ]
        }
      ],
      "metadata": {
        "id": "hS2K2fXejUiQ",
        "outputId": "b8fd3387-1964-4614-bb39-41854d3e9ad1",
        "colab": {
          "base_uri": "https://localhost:8080/"
        }
      }
    },
    {
      "cell_type": "code",
      "execution_count": null,
      "source": [
        "!pip install deepface"
      ],
      "outputs": [],
      "metadata": {
        "id": "ZcRu39Mljraq"
      }
    },
    {
      "cell_type": "code",
      "execution_count": 4,
      "source": [
        "from deepface.commons import functions, distance as dst\r\n",
        "import matplotlib.pyplot as plt"
      ],
      "outputs": [],
      "metadata": {
        "id": "nVLr5FPba9-4"
      }
    },
    {
      "cell_type": "markdown",
      "source": [
        "## Build ArcFace Model"
      ],
      "metadata": {
        "id": "yXKQ252ba9-5"
      }
    },
    {
      "cell_type": "code",
      "execution_count": 11,
      "source": [
        "from tensorflow.python.keras import backend\r\n",
        "from tensorflow.python.keras.engine import training\r\n",
        "from tensorflow.python.keras.utils import data_utils\r\n",
        "from tensorflow.python.keras.utils import layer_utils\r\n",
        "from tensorflow.python.lib.io import file_io\r\n",
        "import tensorflow\r\n",
        "from tensorflow import keras\r\n",
        "\r\n",
        "import os\r\n",
        "from pathlib import Path\r\n",
        "import gdown\r\n",
        "\r\n",
        "#url = \"https://drive.google.com/uc?id=1LVB3CdVejpmGHM28BpqqkbZP5hDEcdZY\"\r\n",
        "\r\n",
        "def loadModel(url = 'https://github.com/serengil/deepface_models/releases/download/v1.0/arcface_weights.h5'):\r\n",
        "\tbase_model = ResNet34()\r\n",
        "\tinputs = base_model.inputs[0]\r\n",
        "\tarcface_model = base_model.outputs[0]\r\n",
        "\tarcface_model = keras.layers.BatchNormalization(momentum=0.9, epsilon=2e-5)(arcface_model)\r\n",
        "\tarcface_model = keras.layers.Dropout(0.4)(arcface_model)\r\n",
        "\tarcface_model = keras.layers.Flatten()(arcface_model)\r\n",
        "\tarcface_model = keras.layers.Dense(512, activation=None, use_bias=True, kernel_initializer=\"glorot_normal\")(arcface_model)\r\n",
        "\tembedding = keras.layers.BatchNormalization(momentum=0.9, epsilon=2e-5, name=\"embedding\", scale=True)(arcface_model)\r\n",
        "\tmodel = keras.models.Model(inputs, embedding, name=base_model.name)\r\n",
        "\r\n",
        "\t#---------------------------------------\r\n",
        "\t#check the availability of pre-trained weights\r\n",
        "\r\n",
        "\thome = str(Path.home())\r\n",
        "\r\n",
        "\tfile_name = \"arcface_weights.h5\"\r\n",
        "\toutput = \"/content/aa/arcface_weights.h5\"\r\n",
        "\r\n",
        "\tif os.path.isfile(output) != True:\r\n",
        "\r\n",
        "\t\tprint(file_name,\" will be downloaded to \",output)\r\n",
        "\t\tgdown.download(url, \"/content/aa/arcface_weights.h5\", quiet=False)\r\n",
        "\r\n",
        "\t#---------------------------------------\r\n",
        "\t\r\n",
        "\tmodel.load_weights(output)\r\n",
        "\r\n",
        "\treturn model\r\n",
        "\r\n",
        "def ResNet34():\r\n",
        "\r\n",
        "\timg_input = tensorflow.keras.layers.Input(shape=(112, 112, 3))\r\n",
        "\r\n",
        "\tx = tensorflow.keras.layers.ZeroPadding2D(padding=1, name='conv1_pad')(img_input)\r\n",
        "\tx = tensorflow.keras.layers.Conv2D(64, 3, strides=1, use_bias=False, kernel_initializer='glorot_normal', name='conv1_conv')(x)\r\n",
        "\tx = tensorflow.keras.layers.BatchNormalization(axis=3, epsilon=2e-5, momentum=0.9, name='conv1_bn')(x)\r\n",
        "\tx = tensorflow.keras.layers.PReLU(shared_axes=[1, 2], name='conv1_prelu')(x)\r\n",
        "\tx = stack_fn(x)\r\n",
        "\r\n",
        "\tmodel = training.Model(img_input, x, name='ResNet34')\r\n",
        "\r\n",
        "\treturn model\r\n",
        "\r\n",
        "def block1(x, filters, kernel_size=3, stride=1, conv_shortcut=True, name=None):\r\n",
        "\tbn_axis = 3\r\n",
        "\r\n",
        "\tif conv_shortcut:\r\n",
        "\t\tshortcut = tensorflow.keras.layers.Conv2D(filters, 1, strides=stride, use_bias=False, kernel_initializer='glorot_normal', name=name + '_0_conv')(x)\r\n",
        "\t\tshortcut = tensorflow.keras.layers.BatchNormalization(axis=bn_axis, epsilon=2e-5, momentum=0.9, name=name + '_0_bn')(shortcut)\r\n",
        "\telse:\r\n",
        "\t\tshortcut = x\r\n",
        "\r\n",
        "\tx = tensorflow.keras.layers.BatchNormalization(axis=bn_axis, epsilon=2e-5, momentum=0.9, name=name + '_1_bn')(x)\r\n",
        "\tx = tensorflow.keras.layers.ZeroPadding2D(padding=1, name=name + '_1_pad')(x)\r\n",
        "\tx = tensorflow.keras.layers.Conv2D(filters, 3, strides=1, kernel_initializer='glorot_normal', use_bias=False, name=name + '_1_conv')(x)\r\n",
        "\tx = tensorflow.keras.layers.BatchNormalization(axis=bn_axis, epsilon=2e-5, momentum=0.9, name=name + '_2_bn')(x)\r\n",
        "\tx = tensorflow.keras.layers.PReLU(shared_axes=[1, 2], name=name + '_1_prelu')(x)\r\n",
        "\r\n",
        "\tx = tensorflow.keras.layers.ZeroPadding2D(padding=1, name=name + '_2_pad')(x)\r\n",
        "\tx = tensorflow.keras.layers.Conv2D(filters, kernel_size, strides=stride, kernel_initializer='glorot_normal', use_bias=False, name=name + '_2_conv')(x)\r\n",
        "\tx = tensorflow.keras.layers.BatchNormalization(axis=bn_axis, epsilon=2e-5, momentum=0.9, name=name + '_3_bn')(x)\r\n",
        "\r\n",
        "\tx = tensorflow.keras.layers.Add(name=name + '_add')([shortcut, x])\r\n",
        "\treturn x\r\n",
        "\r\n",
        "def stack1(x, filters, blocks, stride1=2, name=None):\r\n",
        "\tx = block1(x, filters, stride=stride1, name=name + '_block1')\r\n",
        "\tfor i in range(2, blocks + 1):\r\n",
        "\t\tx = block1(x, filters, conv_shortcut=False, name=name + '_block' + str(i))\r\n",
        "\treturn x\r\n",
        "\r\n",
        "def stack_fn(x):\r\n",
        "\tx = stack1(x, 64, 3, name='conv2')\r\n",
        "\tx = stack1(x, 128, 4, name='conv3')\r\n",
        "\tx = stack1(x, 256, 6, name='conv4')\r\n",
        "\treturn stack1(x, 512, 3, name='conv5')"
      ],
      "outputs": [],
      "metadata": {
        "id": "uZHRMZwJbQQP"
      }
    },
    {
      "cell_type": "code",
      "execution_count": 119,
      "source": [
        "model = loadModel()"
      ],
      "outputs": [],
      "metadata": {
        "id": "xijYajgRa9-5"
      }
    },
    {
      "cell_type": "code",
      "execution_count": 120,
      "source": [
        "#Ref: https://drive.google.com/uc?id=1LVB3CdVejpmGHM28BpqqkbZP5hDEcdZY\r\n",
        "model.load_weights(\"/content/aa/arcface_weights.h5\")"
      ],
      "outputs": [],
      "metadata": {
        "id": "CeSCSYSAa9-5"
      }
    },
    {
      "cell_type": "code",
      "execution_count": 24,
      "source": [
        "print(\"ArcFace expects \",model.layers[0].input_shape[0][1:],\" inputs\")\r\n",
        "print(\"and it represents faces as \", model.layers[-1].output_shape[1:],\" dimensional vectors\")"
      ],
      "outputs": [
        {
          "output_type": "stream",
          "name": "stdout",
          "text": [
            "ArcFace expects  (112, 112, 3)  inputs\n",
            "and it represents faces as  (512,)  dimensional vectors\n"
          ]
        }
      ],
      "metadata": {
        "id": "8jx519zna9-5",
        "outputId": "268c55f2-c563-4352-dfaa-a878e0a7da59",
        "colab": {
          "base_uri": "https://localhost:8080/"
        }
      }
    },
    {
      "cell_type": "code",
      "execution_count": 36,
      "source": [
        "target_size = model.layers[0].input_shape[0][1:3]\r\n",
        "target_size"
      ],
      "outputs": [
        {
          "output_type": "execute_result",
          "data": {
            "text/plain": [
              "(112, 112)"
            ]
          },
          "metadata": {
            "tags": []
          },
          "execution_count": 36
        }
      ],
      "metadata": {
        "id": "vDyAGVnva9-6",
        "outputId": "a5d5b4af-2ee7-453d-9480-490581d2327f",
        "colab": {
          "base_uri": "https://localhost:8080/"
        }
      }
    },
    {
      "cell_type": "markdown",
      "source": [
        "## Early Stages of Pipeline\n",
        "\n",
        "A modern face recognition pipeline consists of 4 common stages: detect, align, represent and verify. ArcFace model handles representation. Here, we will apply detection and alignment within deepface.\n",
        "\n",
        "**Blog post:** [A Modern Face Recognition Pipeline](https://sefiks.com/2020/05/01/a-gentle-introduction-to-face-recognition-in-deep-learning/)\n",
        "\n",
        "**Vlog:** [How Face Recognition Works with Deep Learning in Python](https://youtu.be/OYialFo7Qo4)"
      ],
      "metadata": {
        "id": "zQx3NUGIa9-6"
      }
    },
    {
      "cell_type": "code",
      "execution_count": 47,
      "source": [
        "img1_path = \"/content/1.jpg\"\r\n",
        "img2_path = \"/content/right_face_3.jpg\"\r\n",
        "img3_path = \"/content/left_face_3.jpg\"\r\n",
        "img4_path = '/content/right_face_153.jpg'\r\n",
        "img5_path = '/content/left_face_153.jpg'\r\n"
      ],
      "outputs": [],
      "metadata": {
        "id": "hvuf5Bwca9-6"
      }
    },
    {
      "cell_type": "code",
      "execution_count": 38,
      "source": [
        "from PIL import Image\r\n",
        "import numpy as np\r\n",
        "\r\n",
        "img = Image.open(img1_path)\r\n",
        "img = np.array(img)\r\n",
        "img.shape"
      ],
      "outputs": [
        {
          "output_type": "execute_result",
          "data": {
            "text/plain": [
              "(112, 112, 3)"
            ]
          },
          "metadata": {
            "tags": []
          },
          "execution_count": 38
        }
      ],
      "metadata": {
        "id": "xbsZuLBxenLK",
        "outputId": "97930229-87c2-42c3-dd9c-98af79b6d549",
        "colab": {
          "base_uri": "https://localhost:8080/"
        }
      }
    },
    {
      "cell_type": "code",
      "execution_count": 48,
      "source": [
        "detector_backend = 'opencv'\r\n",
        "\r\n",
        "img1 = functions.preprocess_face(img1_path, target_size = target_size, detector_backend = detector_backend, enforce_detection = False)\r\n",
        "img2 = functions.preprocess_face(img2_path, target_size = target_size, detector_backend = detector_backend, enforce_detection = False)\r\n",
        "img3 = functions.preprocess_face(img3_path, target_size = target_size, detector_backend = detector_backend, enforce_detection = False)\r\n",
        "img4 = functions.preprocess_face(img4_path, target_size = target_size, detector_backend = detector_backend, enforce_detection = False)\r\n",
        "img5 = functions.preprocess_face(img5_path, target_size = target_size, detector_backend = detector_backend, enforce_detection = False)\r\n"
      ],
      "outputs": [],
      "metadata": {
        "id": "OmBwlF5Ra9-6"
      }
    },
    {
      "cell_type": "code",
      "execution_count": null,
      "source": [
        "fig = plt.figure(figsize = (20, 20))\r\n",
        "\r\n",
        "ax1 = fig.add_subplot(1,6,1)\r\n",
        "plt.axis('off')\r\n",
        "plt.imshow(img1[0][:,:,::-1])\r\n",
        "\r\n",
        "ax1 = fig.add_subplot(1,6,2)\r\n",
        "plt.axis('off')\r\n",
        "plt.imshow(img2[0][:,:,::-1])\r\n",
        "\r\n",
        "ax1 = fig.add_subplot(1,6,3)\r\n",
        "plt.axis('off')\r\n",
        "plt.imshow(img3[0][:,:,::-1])\r\n",
        "\r\n",
        "\r\n",
        "plt.show()"
      ],
      "outputs": [],
      "metadata": {
        "id": "lZX4iT9Ga9-6"
      }
    },
    {
      "cell_type": "markdown",
      "source": [
        "## Represent and verify\n",
        "\n",
        "ArcFace is responsible for representing faces as 512 dimensional vectors\n",
        "\n",
        "We will find distance between embeddings to verify they are same person or different persons"
      ],
      "metadata": {
        "id": "rNRzW1ina9-7"
      }
    },
    {
      "cell_type": "code",
      "execution_count": 69,
      "source": [
        "import torch\r\n",
        "from torch.nn import functional as F"
      ],
      "outputs": [],
      "metadata": {
        "id": "skSC-C9rh32A"
      }
    },
    {
      "cell_type": "code",
      "execution_count": 42,
      "source": [
        "metric = 'cosine'"
      ],
      "outputs": [],
      "metadata": {
        "id": "kDt9O5Epa9-7"
      }
    },
    {
      "cell_type": "code",
      "execution_count": 43,
      "source": [
        "def findThreshold(metric):\r\n",
        "    if metric == 'cosine':\r\n",
        "        return 0.6871912959056619\r\n",
        "    elif metric == 'euclidean':\r\n",
        "        return 4.1591468986978075\r\n",
        "    elif metric == 'euclidean_l2':\r\n",
        "        return 1.1315718048269017"
      ],
      "outputs": [],
      "metadata": {
        "id": "Vdgy6FKPa9-7"
      }
    },
    {
      "cell_type": "code",
      "execution_count": 128,
      "source": [
        "from numpy import dot\r\n",
        "from numpy.linalg import norm\r\n",
        "import numpy as np\r\n",
        "\r\n",
        "# 코사인 유사도 함수 \r\n",
        "def cos_sim(A, B):\r\n",
        "       return dot(A, B)/(norm(A)*norm(B))\r\n",
        "\r\n",
        "def verify(img1, img2):\r\n",
        "    \r\n",
        "    #representation\r\n",
        "    \r\n",
        "    img1_embedding = model.predict(img1)[0]\r\n",
        "    img2_embedding = model.predict(img2)[0]\r\n",
        "    img1_tensor = torch.unsqueeze(torch.tensor(img1_embedding), dim = 0)\r\n",
        "    img2_tensor = torch.unsqueeze(torch.tensor(img2_embedding), dim = 0)\r\n",
        "    sim = F.cosine_similarity(img1_tensor, img2_tensor)\r\n",
        "    # if metric == 'cosine':\r\n",
        "    #     distance = dst.findCosineDistance(img1_embedding, img2_embedding)\r\n",
        "    # elif metric == 'euclidean':\r\n",
        "    #     distance = dst.findEuclideanDistance(img1_embedding, img2_embedding)\r\n",
        "    # elif metric == 'euclidean_l2':\r\n",
        "    #     distance = dst.findEuclideanDistance(dst.l2_normalize(img1_embedding), dst.l2_normalize(img2_embedding))\r\n",
        "    \r\n",
        "    #------------------------------\r\n",
        "    #verification\r\n",
        "    \r\n",
        "    # threshold = findThreshold(metric)\r\n",
        "    \r\n",
        "    # if distance <= threshold:\r\n",
        "    #     print(\"they are same person\")\r\n",
        "    # else:\r\n",
        "    #     print(\"they are different persons\")\r\n",
        "    \r\n",
        "    # print(\"Distance is \",round(distance, 2),\" whereas as expected max threshold is \",round(threshold, 2))\r\n",
        "    \r\n",
        "    return sim\r\n",
        "    "
      ],
      "outputs": [],
      "metadata": {
        "id": "vbNJg4bma9-7"
      }
    },
    {
      "cell_type": "code",
      "execution_count": 129,
      "source": [
        "import pandas as pd\r\n",
        "import tqdm\r\n",
        "submission = pd.read_csv(\"/content/sample_submission.csv\")\r\n",
        "\r\n",
        "left_test_paths = list()\r\n",
        "right_test_paths = list()\r\n",
        "\r\n",
        "for i in range(len(submission)):\r\n",
        "    left_test_paths.append(submission['face_images'][i].split()[0])\r\n",
        "    right_test_paths.append(submission['face_images'][i].split()[1])"
      ],
      "outputs": [],
      "metadata": {
        "id": "9hp5A4phfuAe"
      }
    },
    {
      "cell_type": "code",
      "execution_count": 130,
      "source": [
        "results = []\r\n",
        "\r\n",
        "for left_test_path, right_test_path in tqdm.tqdm(zip(left_test_paths, right_test_paths)):\r\n",
        "    img_left = Image.open(\"/content/gdrive/MyDrive/test/\" + left_test_path + '.jpg').convert(\"RGB\")# 경로 설정 유의(ex .inha/test)\r\n",
        "    img_left = np.array(img_left)\r\n",
        "    img_left = functions.preprocess_face(img_left, target_size = target_size, detector_backend = detector_backend, enforce_detection = False)\r\n",
        "    img_right = Image.open(\"/content/gdrive/MyDrive/test/\" + right_test_path + '.jpg').convert(\"RGB\")# 경로 설정 유의(ex .inha/test)\r\n",
        "    img_right = np.array(img_right)\r\n",
        "    img_right = functions.preprocess_face(img_right, target_size = target_size, detector_backend = detector_backend, enforce_detection = False)\r\n",
        "    results.append(verify(img_left, img_right))"
      ],
      "outputs": [
        {
          "output_type": "stream",
          "name": "stderr",
          "text": [
            "0it [00:00, ?it/s]/usr/local/lib/python3.7/dist-packages/deepface/commons/functions.py:69: FutureWarning: elementwise comparison failed; returning scalar instead, but in the future will perform elementwise comparison\n",
            "  if len(img) > 11 and img[0:11] == \"data:image/\":\n",
            "6000it [11:55,  8.39it/s]\n"
          ]
        }
      ],
      "metadata": {
        "id": "vgyBoGzysUOO",
        "outputId": "371747c8-6ce2-43d5-d35f-5b0fb7b5e3c9",
        "colab": {
          "base_uri": "https://localhost:8080/"
        }
      }
    },
    {
      "cell_type": "code",
      "execution_count": 135,
      "source": [
        "temp = []\r\n",
        "for i in results:\r\n",
        "  temp.append(float(i))"
      ],
      "outputs": [],
      "metadata": {
        "id": "bNPTzb9s1Sp8"
      }
    },
    {
      "cell_type": "code",
      "execution_count": 137,
      "source": [
        "\r\n",
        "submission = pd.read_csv(\"/content/sample_submission.csv\") \r\n",
        "submission['answer'] = temp\r\n",
        "submission.to_csv('/content/gdrive/MyDrive/pytorch_submission.csv', index=False)"
      ],
      "outputs": [],
      "metadata": {
        "id": "0jyr3DtJyho1"
      }
    },
    {
      "cell_type": "code",
      "execution_count": null,
      "source": [
        "verify(img4, img6)"
      ],
      "outputs": [
        {
          "output_type": "stream",
          "name": "stdout",
          "text": [
            "they are different persons\n",
            "Distance is  4.91  whereas as expected max threshold is  4.16\n"
          ]
        },
        {
          "output_type": "display_data",
          "data": {
            "text/plain": [
              "<Figure size 432x288 with 2 Axes>"
            ],
            "image/png": "[encoded data removed]"
          },
          "metadata": {
            "tags": [],
            "needs_background": "light"
          }
        }
      ],
      "metadata": {
        "id": "JGqCXk0ma9_A",
        "outputId": "a3f7f354-cb4e-42e7-cc86-8d11b83ba2ab"
      }
    }
  ]
}